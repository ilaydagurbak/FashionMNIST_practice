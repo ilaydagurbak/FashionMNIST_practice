{
 "cells": [
  {
   "cell_type": "code",
   "execution_count": 1,
   "metadata": {},
   "outputs": [
    {
     "name": "stderr",
     "output_type": "stream",
     "text": [
      "/Users/ilayda/Desktop/anaconda3/lib/python3.6/site-packages/h5py/__init__.py:34: FutureWarning: Conversion of the second argument of issubdtype from `float` to `np.floating` is deprecated. In future, it will be treated as `np.float64 == np.dtype(float).type`.\n",
      "  from ._conv import register_converters as _register_converters\n"
     ]
    }
   ],
   "source": [
    "import tensorflow as tf\n",
    "import numpy as np\n",
    "from matplotlib import pyplot as plt"
   ]
  },
  {
   "cell_type": "code",
   "execution_count": 2,
   "metadata": {},
   "outputs": [
    {
     "name": "stdout",
     "output_type": "stream",
     "text": [
      "Extracting data/fashion/train-images-idx3-ubyte.gz\n",
      "Extracting data/fashion/train-labels-idx1-ubyte.gz\n",
      "Extracting data/fashion/t10k-images-idx3-ubyte.gz\n",
      "Extracting data/fashion/t10k-labels-idx1-ubyte.gz\n"
     ]
    }
   ],
   "source": [
    "from tensorflow.examples.tutorials.mnist import input_data\n",
    "fashion_mnist = input_data.read_data_sets('data/fashion', source_url='http://fashion-mnist.s3-website.eu-central-1.amazonaws.com/',one_hot=True)"
   ]
  },
  {
   "cell_type": "code",
   "execution_count": 3,
   "metadata": {
    "collapsed": true
   },
   "outputs": [],
   "source": [
    "def var(name, shape, init=None, std=None):\n",
    "    if init is None:\n",
    "        if std is None:\n",
    "            std = (2./shape[0])**0.5\n",
    "        init = tf.truncated_normal_initializer(stddev=std)\n",
    "    return tf.get_variable(name=name, shape=shape,\n",
    "                                  dtype=tf.float32, initializer=init)\n",
    "\n",
    "\n"
   ]
  },
  {
   "cell_type": "code",
   "execution_count": 4,
   "metadata": {},
   "outputs": [
    {
     "name": "stdout",
     "output_type": "stream",
     "text": [
      "WARNING:tensorflow:From <ipython-input-4-dd2f576cfe72>:29: softmax_cross_entropy_with_logits (from tensorflow.python.ops.nn_ops) is deprecated and will be removed in a future version.\n",
      "Instructions for updating:\n",
      "\n",
      "Future major versions of TensorFlow will allow gradients to flow\n",
      "into the labels input on backprop by default.\n",
      "\n",
      "See tf.nn.softmax_cross_entropy_with_logits_v2.\n",
      "\n"
     ]
    }
   ],
   "source": [
    "g = tf.Graph()\n",
    "with g.as_default():\n",
    "    X = tf.placeholder(dtype=tf.float32, shape=[None, 784])\n",
    "    Y = tf.placeholder(dtype=tf.float32, shape=[None, 10])\n",
    "    \n",
    "    #hidden layer\n",
    "    W1 = var('W1',[784, 100])\n",
    "    b1 = var('b1',[100],tf.constant_initializer(0.1))\n",
    "    out1 = tf.nn.relu(tf.matmul(X, W1) + b1)\n",
    "    \n",
    "    #hidden layer\n",
    "    W2 = var('W2',[100, 100])\n",
    "    b2 = var('b2',[100],tf.constant_initializer(0.1))\n",
    "    out2 = tf.nn.relu(tf.matmul(out1, W2) + b2)\n",
    "    \n",
    "    #output layer\n",
    "    W3 = var('W3',[100,10])\n",
    "    b3 = var('b3',[10],tf.constant_initializer(0.1))\n",
    "    logits =tf.matmul(out2, W3) + b3\n",
    "    \n",
    "      \n",
    "    #accuracy\n",
    "    pred = tf.argmax(logits, axis=1)\n",
    "    truth = tf.argmax(Y, axis=1)\n",
    "    match = tf.cast(tf.equal(pred,truth), tf.float32)\n",
    "    acc = tf.reduce_mean(match)\n",
    "    \n",
    "    loss = tf.reduce_mean(tf.nn.softmax_cross_entropy_with_logits(\n",
    "    logits=logits, labels=Y))\n",
    "    step = tf.train.AdamOptimizer().minimize(loss)"
   ]
  },
  {
   "cell_type": "code",
   "execution_count": 5,
   "metadata": {
    "collapsed": true
   },
   "outputs": [],
   "source": [
    "sess = tf.InteractiveSession(graph=g)\n",
    "tf.global_variables_initializer().run()"
   ]
  },
  {
   "cell_type": "code",
   "execution_count": 6,
   "metadata": {},
   "outputs": [
    {
     "name": "stdout",
     "output_type": "stream",
     "text": [
      "9999) acc: 0.9000\r"
     ]
    }
   ],
   "source": [
    "bsize = 100\n",
    "for I in range(10000):\n",
    "    x,y = fashion_mnist.train.next_batch(bsize)\n",
    "    _, acc_ = sess.run([step, acc], feed_dict={X:x, Y:y})\n",
    "    print('%d) acc: %2.4f' % (I,acc_), end = '\\r')\n",
    "    "
   ]
  },
  {
   "cell_type": "code",
   "execution_count": 7,
   "metadata": {},
   "outputs": [
    {
     "data": {
      "text/plain": [
       "0.93576366"
      ]
     },
     "execution_count": 7,
     "metadata": {},
     "output_type": "execute_result"
    }
   ],
   "source": [
    "sess.run(acc, feed_dict={X:fashion_mnist.train.images, Y:fashion_mnist.train.labels})"
   ]
  },
  {
   "cell_type": "code",
   "execution_count": 8,
   "metadata": {},
   "outputs": [
    {
     "data": {
      "text/plain": [
       "0.8892"
      ]
     },
     "execution_count": 8,
     "metadata": {},
     "output_type": "execute_result"
    }
   ],
   "source": [
    "sess.run(acc, feed_dict={X:fashion_mnist.test.images, Y:fashion_mnist.test.labels})"
   ]
  },
  {
   "cell_type": "code",
   "execution_count": 9,
   "metadata": {},
   "outputs": [
    {
     "name": "stdout",
     "output_type": "stream",
     "text": [
      "0) loss: 0.2217\n",
      "100) loss: 0.0041\n",
      "200) loss: 0.0020\n",
      "300) loss: 0.0013\n",
      "400) loss: 0.0009\n",
      "500) loss: 0.0007\n",
      "600) loss: 0.0006\n",
      "700) loss: 0.0005\n",
      "800) loss: 0.0004\n",
      "900) loss: 0.0003\n"
     ]
    }
   ],
   "source": [
    "loss_list = []\n",
    "for i in range(1000):\n",
    "    _,loss_ = sess.run([step, loss],feed_dict={X:x, Y:y})\n",
    "    loss_list.append(loss_)\n",
    "    if not i%100:\n",
    "        print('%d) loss: %2.4f'  %(i, loss_))"
   ]
  },
  {
   "cell_type": "code",
   "execution_count": 10,
   "metadata": {},
   "outputs": [
    {
     "data": {
      "image/png": "[encoded data removed]",
      "text/plain": [
       "<matplotlib.figure.Figure at 0x1c233fec18>"
      ]
     },
     "metadata": {},
     "output_type": "display_data"
    }
   ],
   "source": [
    "plt.plot(loss_list[10:1000],c='r')\n",
    "plt.legend(['loss function'])\n",
    "plt.show()"
   ]
  },
  {
   "cell_type": "code",
   "execution_count": null,
   "metadata": {
    "collapsed": true
   },
   "outputs": [],
   "source": []
  }
 ],
 "metadata": {
  "kernelspec": {
   "display_name": "Python 3",
   "language": "python",
   "name": "python3"
  },
  "language_info": {
   "codemirror_mode": {
    "name": "ipython",
    "version": 3
   },
   "file_extension": ".py",
   "mimetype": "text/x-python",
   "name": "python",
   "nbconvert_exporter": "python",
   "pygments_lexer": "ipython3",
   "version": "3.6.3"
  }
 },
 "nbformat": 4,
 "nbformat_minor": 2
}
